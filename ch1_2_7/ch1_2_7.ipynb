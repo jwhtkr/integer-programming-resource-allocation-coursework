{
 "cells": [
  {
   "cell_type": "code",
   "execution_count": 28,
   "source": [
    "import gurobipy as gp\n",
    "import numpy as np\n",
    "rng = np.random.default_rng(42)"
   ],
   "outputs": [],
   "metadata": {}
  },
  {
   "cell_type": "markdown",
   "source": [
    "# Knapsack Problem (2.3.1)\n",
    "$$\n",
    "\\begin{align*}\n",
    "    \\max\\ &z = \\sum_j c_j y_j \\\\\n",
    "    \\text{s.t.} &\\sum_j a_j y_j \\le b \\\\\n",
    "    &y_j = 0 \\text{ or } 1 & j = 1, 2, \\dots, n\n",
    "\\end{align*}\n",
    "$$"
   ],
   "metadata": {}
  },
  {
   "cell_type": "code",
   "execution_count": 29,
   "source": [
    "knapsack = gp.Model()\n",
    "n_var = 10\n",
    "\n",
    "x = [knapsack.addVar(vtype=gp.GRB.BINARY) for j in range(n_var)]\n",
    "\n",
    "c = [rng.uniform(0, 10) for j in range(n_var)]\n",
    "objective = gp.quicksum(c[j]*x[j] for j in range(n_var))\n",
    "\n",
    "a = [rng.uniform(0, 10) for j in range(n_var)]\n",
    "b = rng.uniform(n_var, 3*n_var)\n",
    "constraint = gp.quicksum(a[j]*x[j] for j in range(n_var)) <= b\n",
    "\n",
    "knapsack.setObjective(objective, gp.GRB.MAXIMIZE)\n",
    "knapsack.addConstr(constraint)\n",
    "\n",
    "knapsack.optimize()\n",
    "\n",
    "print(f\"Solution vector: {[var.X for var in x]}\")"
   ],
   "outputs": [
    {
     "output_type": "stream",
     "name": "stdout",
     "text": [
      "Gurobi Optimizer version 9.1.2 build v9.1.2rc0 (linux64)\n",
      "Thread count: 4 physical cores, 8 logical processors, using up to 8 threads\n",
      "Optimize a model with 1 rows, 10 columns and 10 nonzeros\n",
      "Model fingerprint: 0x1db5e585\n",
      "Variable types: 0 continuous, 10 integer (10 binary)\n",
      "Coefficient statistics:\n",
      "  Matrix range     [6e-01, 9e+00]\n",
      "  Objective range  [9e-01, 1e+01]\n",
      "  Bounds range     [1e+00, 1e+00]\n",
      "  RHS range        [3e+01, 3e+01]\n",
      "Found heuristic solution: objective 29.5167406\n",
      "Presolve time: 0.00s\n",
      "Presolved: 1 rows, 10 columns, 10 nonzeros\n",
      "Variable types: 0 continuous, 10 integer (10 binary)\n",
      "\n",
      "Root relaxation: objective 4.708557e+01, 1 iterations, 0.00 seconds\n",
      "\n",
      "    Nodes    |    Current Node    |     Objective Bounds      |     Work\n",
      " Expl Unexpl |  Obj  Depth IntInf | Incumbent    BestBd   Gap | It/Node Time\n",
      "\n",
      "     0     0   47.08557    0    1   29.51674   47.08557  59.5%     -    0s\n",
      "H    0     0                      46.0576627   47.08557  2.23%     -    0s\n",
      "     0     0   47.08557    0    1   46.05766   47.08557  2.23%     -    0s\n",
      "\n",
      "Explored 1 nodes (1 simplex iterations) in 0.02 seconds\n",
      "Thread count was 8 (of 8 available processors)\n",
      "\n",
      "Solution count 2: 46.0577 29.5167 \n",
      "\n",
      "Optimal solution found (tolerance 1.00e-04)\n",
      "Best objective 4.605766265267e+01, best bound 4.605766265267e+01, gap 0.0000%\n",
      "Solution vector: [1.0, 0.0, 1.0, 0.0, 0.0, 1.0, 1.0, 1.0, 0.0, 1.0]\n"
     ]
    }
   ],
   "metadata": {}
  },
  {
   "cell_type": "markdown",
   "source": [
    "# Capacitated Lot Sizing (2.4.2)\n",
    "## Decision Variables\n",
    "$y_t$: whether or not to produce in a time period.  \n",
    "$x_t$: how much to produce in a time period.  \n",
    "## Slack Variables\n",
    "$s_t$: inventory level at the end of each time period ($s_0 = 0$).  \n",
    "## Input Variables\n",
    "$d_t$: demand in each time period.  \n",
    "$f_t$: fixed setup cost in a time period.  \n",
    "$c_t$: unit production cost.  \n",
    "$h_t$: unit holding cost.  \n",
    "$u_t$: production capacity for a time period.\n",
    "$$\n",
    "\\begin{align*}\n",
    "    \\min\\ &\\sum_t (c_t x_t + f_t y_t + h_t s_t) \\\\\n",
    "    \\text{s.t.} &s_{t-1} + x_t + s_t = d_t \\\\\n",
    "    &x_t \\le u_t y_t \\\\\n",
    "    &x_t \\ge 0 \\\\\n",
    "    &s_t \\ge 0 \\\\\n",
    "    &y_t = 0 \\text{ or } 1 \\\\\n",
    "\\end{align*}\n",
    "$$"
   ],
   "metadata": {}
  },
  {
   "cell_type": "code",
   "execution_count": 32,
   "source": [
    "cap_lot_size = gp.Model()\n",
    "n_time_step = 10\n",
    "\n",
    "y = [cap_lot_size.addVar(vtype=gp.GRB.BINARY) for t in range(n_time_step)]\n",
    "x = [cap_lot_size.addVar(vtype=gp.GRB.CONTINUOUS) for t in range(n_time_step)]\n",
    "s = [cap_lot_size.addVar(vtype=gp.GRB.CONTINUOUS) for t in range(n_time_step)]\n",
    "\n",
    "c = [rng.uniform(0, 10) for t in range(n_time_step)]\n",
    "f = [rng.uniform(0, 10) for t in range(n_time_step)]\n",
    "h = [rng.uniform(0, 10) for t in range(n_time_step)]\n",
    "d = [rng.uniform(0, 10) for t in range(n_time_step)]\n",
    "u = [rng.uniform(5, 10) for t in range(n_time_step)]\n",
    "\n",
    "objective = gp.quicksum(c[t]*x[t]+f[t]*y[t]+h[t]*s[t] for t in range(n_time_step))\n",
    "cap_lot_size.setObjective(objective, gp.GRB.MINIMIZE)\n",
    "\n",
    "demand_lhs = [x[0] - s[0]] + [s[t-1] + x[t] - s[t] for t in range(1, n_time_step)]\n",
    "demand_constraints = [demand_lhs[t] == d[t] for t in range(n_time_step)]\n",
    "capacity_constraints = [x[t] <= u[t]*y[t] for t in range(n_time_step)]\n",
    "constraints = demand_constraints + capacity_constraints\n",
    "for constraint in constraints:\n",
    "    cap_lot_size.addConstr(constraint)\n",
    "\n",
    "cap_lot_size.optimize()\n",
    "\n",
    "print(f\"Lot Sizes: {[var.X for var in x]}\")\n",
    "print(f\"Surplus Sizes: {[var.X for var in s]}\")"
   ],
   "outputs": [
    {
     "output_type": "stream",
     "name": "stdout",
     "text": [
      "Gurobi Optimizer version 9.1.2 build v9.1.2rc0 (linux64)\n",
      "Thread count: 4 physical cores, 8 logical processors, using up to 8 threads\n",
      "Optimize a model with 20 rows, 30 columns and 49 nonzeros\n",
      "Model fingerprint: 0xc0533705\n",
      "Variable types: 20 continuous, 10 integer (10 binary)\n",
      "Coefficient statistics:\n",
      "  Matrix range     [1e+00, 1e+01]\n",
      "  Objective range  [2e-01, 1e+01]\n",
      "  Bounds range     [1e+00, 1e+00]\n",
      "  RHS range        [1e+00, 9e+00]\n",
      "Presolve removed 7 rows and 10 columns\n",
      "Presolve time: 0.00s\n",
      "Presolved: 13 rows, 20 columns, 32 nonzeros\n",
      "Variable types: 13 continuous, 7 integer (7 binary)\n",
      "\n",
      "Root relaxation: objective 2.352259e+02, 13 iterations, 0.00 seconds\n",
      "\n",
      "    Nodes    |    Current Node    |     Objective Bounds      |     Work\n",
      " Expl Unexpl |  Obj  Depth IntInf | Incumbent    BestBd   Gap | It/Node Time\n",
      "\n",
      "     0     0  235.22591    0    4          -  235.22591      -     -    0s\n",
      "H    0     0                     247.8935701  235.22591  5.11%     -    0s\n",
      "\n",
      "Cutting planes:\n",
      "  Gomory: 4\n",
      "  Implied bound: 3\n",
      "  Relax-and-lift: 2\n",
      "\n",
      "Explored 1 nodes (13 simplex iterations) in 0.02 seconds\n",
      "Thread count was 8 (of 8 available processors)\n",
      "\n",
      "Solution count 1: 247.894 \n",
      "\n",
      "Optimal solution found (tolerance 1.00e-04)\n",
      "Best objective 2.478935700894e+02, best bound 2.478935700894e+02, gap 0.0000%\n",
      "Lot Sizes: [8.961607718397667, 1.7557895444957032, 5.187062780880899, 1.0857574113544355, 6.722400930398117, 2.812337838390083, 7.278478025674268, 6.585694464113576, 8.763884378735536, 0.0]\n",
      "Surplus Sizes: [0.0, 0.3532986545095955, 0.0, 0.0, 0.0, 0.0, 0.68425167875525, 0.0, 1.0774094595589663, 6.661338147750939e-16]\n"
     ]
    }
   ],
   "metadata": {}
  }
 ],
 "metadata": {
  "orig_nbformat": 4,
  "language_info": {
   "name": "python",
   "version": "3.9.7",
   "mimetype": "text/x-python",
   "codemirror_mode": {
    "name": "ipython",
    "version": 3
   },
   "pygments_lexer": "ipython3",
   "nbconvert_exporter": "python",
   "file_extension": ".py"
  },
  "kernelspec": {
   "name": "python3",
   "display_name": "Python 3.9.7 64-bit ('venv': venv)"
  },
  "interpreter": {
   "hash": "053e02231eee21760f2a61102ee4bf6c6214a2dd87d02ca31b6f4301c888de74"
  }
 },
 "nbformat": 4,
 "nbformat_minor": 2
}