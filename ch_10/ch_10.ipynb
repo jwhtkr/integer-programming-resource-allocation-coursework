{
 "cells": [
  {
   "cell_type": "markdown",
   "source": [
    "# Create the graph from the book example"
   ],
   "metadata": {}
  },
  {
   "cell_type": "code",
   "execution_count": 34,
   "source": [
    "import matplotlib.pyplot as plt\r\n",
    "import networkx as nx\r\n",
    "from typing import Any, Optional\r\n",
    "\r\n",
    "G = nx.DiGraph()\r\n",
    "\r\n",
    "b = [40, 50, 0, -30, -60]\r\n",
    "edges = [(1,2), (1,3), (1,4), (2,3), (2,5), (3,5), (4,5)]\r\n",
    "edge_data = [(3, 1000), (7, 10), (5, 35), (2, 60), (1, 30), (8, 1000), (4, 1000)]\r\n",
    "\r\n",
    "G.add_nodes_from(zip(range(1, 6), ({\"b\": b[i]} for i in range(5))))\r\n",
    "G.add_edges_from(edges)\r\n",
    "for edge, data in zip(edges, edge_data):\r\n",
    "    from_, to_ = edge\r\n",
    "    cost, cap = data\r\n",
    "    G[from_][to_][\"cost\"] = cost\r\n",
    "    G[from_][to_][\"cap\"] = cap\r\n",
    "    G[from_][to_][\"flow\"] = 0\r\n",
    "    \r\n",
    "nx.draw_shell(G, nlist=[[3], [1, 2, 5, 4]], with_labels=True)"
   ],
   "outputs": [
    {
     "output_type": "display_data",
     "data": {
      "image/png": "[encoded data removed]",
      "text/plain": [
       "<Figure size 432x288 with 1 Axes>"
      ]
     },
     "metadata": {}
    }
   ],
   "metadata": {}
  },
  {
   "cell_type": "markdown",
   "source": [
    "# Perform network simplex\r\n",
    "Steps:\r\n",
    "1. Find a rooted feasible spanning tree with $m-1$ basic arcs\r\n",
    "   - Check if $\\sum b_i =0$. If not add dummy nodes and associated dummy arcs\r\n",
    "   - Designate a demand node ($b_i < 0$>) as a root node and create a rooted arc from it\r\n",
    "   - Create a feasible spanning tree. Begin with the end nodes and proceed toward the rooted node. Assign flows to arcs so that at each node the net flow is $b_i$\r\n"
   ],
   "metadata": {}
  },
  {
   "cell_type": "code",
   "execution_count": 35,
   "source": [
    "def find_feasible_spanning_tree(graph: nx.DiGraph):\r\n",
    "    # This is assuming the graph is the book example, and uses their given \r\n",
    "    # spanning tree.\r\n",
    "    graph[1][3][\"flow\"] = 10\r\n",
    "    graph[1][4][\"flow\"] = 30\r\n",
    "    graph[2][3][\"flow\"] = 50\r\n",
    "    graph[3][5][\"flow\"] = 60\r\n",
    "    graph.add_edge(5, \"root\")\r\n",
    "    tree = [(1,3), (1,4), (2,3), (3,5), (5,\"root\")]\r\n",
    "    return tree\r\n",
    "\r\n",
    "basic_arcs = find_feasible_spanning_tree(G)\r\n",
    "print(basic_arcs)"
   ],
   "outputs": [
    {
     "output_type": "stream",
     "name": "stdout",
     "text": [
      "[(1, 3), (1, 4), (2, 3), (3, 5), (5, 'root')]\n"
     ]
    }
   ],
   "metadata": {}
  },
  {
   "cell_type": "markdown",
   "source": [
    "2. Compute the node potentials ($u_i$ or the dual variables). Set the rooted node to 0 and then use $u_i - u_j = c_{ij}$ to iteratively backtrack the other values.\r\n"
   ],
   "metadata": {}
  },
  {
   "cell_type": "code",
   "execution_count": 36,
   "source": [
    "def compute_duals(graph: nx.DiGraph, basic_arcs: list[tuple[Any, Any]]):\r\n",
    "    root = basic_arcs[-1][0]\r\n",
    "    duals: dict[Any, float] = {}\r\n",
    "    duals[root] = 0\r\n",
    "    \r\n",
    "    queue = [root]\r\n",
    "    basic_arcs_set = set(basic_arcs)\r\n",
    "    \r\n",
    "    while len(duals) < len(graph) - 1:\r\n",
    "        for node in queue:\r\n",
    "            for prev in graph.pred[node]:\r\n",
    "                if (prev, node) not in basic_arcs_set:\r\n",
    "                    continue\r\n",
    "                if prev not in duals:\r\n",
    "                    duals[prev] = graph.edges[prev, node][\"cost\"] + duals[node]\r\n",
    "                    queue.append(prev)  # intentionally mutating queue during iteration\r\n",
    "            \r\n",
    "        for node in queue:\r\n",
    "            for post in graph.succ[node]:\r\n",
    "                if (node, post) not in basic_arcs_set:\r\n",
    "                    continue\r\n",
    "                if post == \"root\":\r\n",
    "                    continue\r\n",
    "                if post not in duals:\r\n",
    "                    duals[post] = duals[node] - graph.edges[node, post][\"cost\"]\r\n",
    "                    queue.append(post)  # intentionally mutating queue during iteration\r\n",
    "                    \r\n",
    "    return duals\r\n",
    "                \r\n",
    "    \r\n",
    "    \r\n",
    "duals = compute_duals(G, basic_arcs)\r\n",
    "print(duals)"
   ],
   "outputs": [
    {
     "output_type": "stream",
     "name": "stdout",
     "text": [
      "{5: 0, 3: 8, 1: 15, 2: 10, 4: 10}\n"
     ]
    }
   ],
   "metadata": {}
  },
  {
   "cell_type": "markdown",
   "source": [
    "3. Compute the reduced costs $\\bar{c}_{ij} = u_i - u_j - c_{ij}$ for all non-basic (un-used or at capacity) arcs. Check optimality ($x_{ij}=0 \\Rightarrow \\bar{c}_{ij} \\leq 0, x_{ij} = U_{ij} \\Rightarrow \\bar{c}_{ij}$). If not optimal, choose an entering arc that most violates either optimality condition.\r\n"
   ],
   "metadata": {}
  },
  {
   "cell_type": "code",
   "execution_count": 37,
   "source": [
    "def compute_reduced_costs(graph: nx.DiGraph, basic_arcs: list[tuple[Any, Any]], duals: dict[Any, float]):\r\n",
    "    basic_arcs_set = set(basic_arcs)\r\n",
    "    reduced_costs: dict[tuple[Any, Any], float] = {}\r\n",
    "    for edge in graph.edges:\r\n",
    "        if edge not in basic_arcs_set:\r\n",
    "            u_from, u_to = duals[edge[0]], duals[edge[1]]\r\n",
    "            cost_from_to = graph.edges[edge][\"cost\"]\r\n",
    "            reduced_costs[edge] = u_from - u_to - cost_from_to\r\n",
    "            \r\n",
    "    return reduced_costs\r\n",
    "\r\n",
    "reduced_costs = compute_reduced_costs(G, basic_arcs, duals)\r\n",
    "\r\n",
    "def optimality_violations(graph: nx.DiGraph, reduced_costs: dict[tuple[Any, Any], float]):\r\n",
    "    violations = {edge: 0.0 for edge in reduced_costs}\r\n",
    "    for edge in reduced_costs:\r\n",
    "        if graph.edges[edge][\"flow\"] == 0 and reduced_costs[edge] > 0:\r\n",
    "            violations[edge] = reduced_costs[edge]\r\n",
    "        if graph.edges[edge][\"flow\"] == graph.edges[edge][\"cap\"] and reduced_costs[edge] < 0:\r\n",
    "            violations[edge] = -reduced_costs[edge]\r\n",
    "    return violations\r\n",
    "\r\n",
    "violations = optimality_violations(G, reduced_costs)\r\n",
    "print(violations)\r\n",
    "\r\n",
    "def is_optimal(violations: dict[tuple[Any, Any], float], epsilon: float = 1e-6):\r\n",
    "    return all(abs(v) <= epsilon for v in violations.values())\r\n",
    "\r\n",
    "print(\"Is optimal? \" + str(is_optimal(violations)))\r\n",
    "\r\n",
    "def entering_arc(violations: dict[tuple[Any, Any], float]):\r\n",
    "    pass"
   ],
   "outputs": [
    {
     "output_type": "stream",
     "name": "stdout",
     "text": [
      "{(1, 2): 2, (2, 5): 9, (4, 5): 6}\n",
      "Is optimal? False\n"
     ]
    }
   ],
   "metadata": {}
  },
  {
   "cell_type": "markdown",
   "source": [
    "4. Form a unique cycle by adding the entering arc. Determine the maximum amount of $\\Delta$ (either increase or decrease flow) without violating constraints. The leaving arc is the one that \"hits\" a constraint with this $\\Delta$.\r\n"
   ],
   "metadata": {}
  },
  {
   "cell_type": "code",
   "execution_count": null,
   "source": [],
   "outputs": [],
   "metadata": {}
  },
  {
   "cell_type": "markdown",
   "source": [
    "5. Find the new feasible spanning tree by adjusting the flows in the cycle so that flow conservation is maintained (i.e., add or subtract $\\Delta$ appropriately). Go back to 2."
   ],
   "metadata": {}
  },
  {
   "cell_type": "code",
   "execution_count": null,
   "source": [],
   "outputs": [],
   "metadata": {}
  }
 ],
 "metadata": {
  "orig_nbformat": 4,
  "language_info": {
   "name": "python",
   "version": "3.9.7",
   "mimetype": "text/x-python",
   "codemirror_mode": {
    "name": "ipython",
    "version": 3
   },
   "pygments_lexer": "ipython3",
   "nbconvert_exporter": "python",
   "file_extension": ".py"
  },
  "kernelspec": {
   "name": "python3",
   "display_name": "Python 3.9.7 64-bit ('venv')"
  },
  "interpreter": {
   "hash": "fa610890267813a770ce3bfb3fb405b627effdec544bbb41df2301ddd74a8f19"
  }
 },
 "nbformat": 4,
 "nbformat_minor": 2
}