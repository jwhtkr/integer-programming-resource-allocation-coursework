{
 "cells": [
  {
   "cell_type": "code",
   "execution_count": 48,
   "source": [
    "import gurobipy as gp\r\n",
    "gp.setParam(\"DisplayInterval\", 1)\r\n",
    "model = gp.read(\"adlittle.mps\")\r\n"
   ],
   "outputs": [
    {
     "output_type": "stream",
     "name": "stdout",
     "text": [
      "Parameter DisplayInterval unchanged\n",
      "   Value: 1  Min: 1  Max: 2000000000  Default: 5\n",
      "Read MPS format model from file adlittle.mps\n",
      "Reading time = 0.00 seconds\n",
      "ADLITTLE: 56 rows, 97 columns, 383 nonzeros\n"
     ]
    }
   ],
   "metadata": {}
  },
  {
   "cell_type": "code",
   "execution_count": 49,
   "source": [
    "model.params.Method = 0  # Primal Simplex\r\n",
    "model.optimize()\r\n",
    "print([var.X for var in model.getVars()])"
   ],
   "outputs": [
    {
     "output_type": "stream",
     "name": "stdout",
     "text": [
      "Changed value of parameter Method to 0\n",
      "   Prev: -1  Min: -1  Max: 5  Default: -1\n",
      "Gurobi Optimizer version 9.1.2 build v9.1.2rc0 (win64)\n",
      "Thread count: 6 physical cores, 12 logical processors, using up to 12 threads\n",
      "Optimize a model with 56 rows, 97 columns and 383 nonzeros\n",
      "Model fingerprint: 0xe5a2036a\n",
      "Coefficient statistics:\n",
      "  Matrix range     [1e-03, 6e+01]\n",
      "  Objective range  [2e+00, 3e+03]\n",
      "  Bounds range     [0e+00, 0e+00]\n",
      "  RHS range        [3e+00, 2e+03]\n",
      "Presolve removed 3 rows and 3 columns\n",
      "Presolve time: 0.00s\n",
      "Presolved: 53 rows, 94 columns, 372 nonzeros\n",
      "\n",
      "Iteration    Objective       Primal Inf.    Dual Inf.      Time\n",
      "       0    1.3664985e+05   1.016017e+02   4.255627e+06      0s\n",
      "      99    2.2549496e+05   0.000000e+00   0.000000e+00      0s\n",
      "\n",
      "Solved in 99 iterations and 0.01 seconds\n",
      "Optimal objective  2.254949632e+05\n",
      "[22.854545454545455, 0.5454545454545435, 4.626937269625273, 0.0, 0.0, 35.10714285714286, 0.0, 7.735815994315375, 0.0, 28.282846899379102, 0.0, 26.007017739143983, 0.0, 9.899778016653094, 98.1002219833469, 0.0, 0.0, 0.0, 0.0, 13.0, 0.0, 0.0, 0.0, 0.0, 118.44640594221227, 0.0, 146.55359405778773, 0.0, 0.0, 109.33916621972132, 5.946942382467303, 1.7769076175326974, 134.0, 0.0, 0.0, 0.0, 31.0, 0.0, 0.0, 0.0, 0.0, 60.0, 111.72727272727298, 0.0, 51.90909090909089, 1.4680999731401698, 32.53190002685983, 0.0, 0.0, 41.5, 0.0, 15.478816603917105, 0.0, 15.0, 0.0, 0.0, 3.1, 0.0, 0.6909090909091062, 0.0, 0.0, 175.44471672251095, 0.0, 9.80614106536041, 0.0, 0.0, 33.46836965590069, 9.531630344099312, 10.293075025153826, 8.906924974846174, 0.0, 0.0, 6.1, 0.0, 9.79285714285714, 313.1973528147316, 55.431678043512925, 264.555283277489, 0.0, 13.2, 0.0, 1.3144797733006612, 0.5032608695652174, 0.0, 0.0, 0.0, 0.0, 0.0, 0.0, 0.0, 2.6497967479674798, 13.5, 6.087276388151928, 0.0, 31.2, 0.0, 0.0]\n"
     ]
    }
   ],
   "metadata": {}
  },
  {
   "cell_type": "code",
   "execution_count": 51,
   "source": [
    "model.params.Method = 1  # Dual Simplex\r\n",
    "model.reset()\r\n",
    "model.optimize()\r\n",
    "print([var.X for var in model.getVars()])"
   ],
   "outputs": [
    {
     "output_type": "stream",
     "name": "stdout",
     "text": [
      "Parameter Method unchanged\n",
      "   Value: 1  Min: -1  Max: 5  Default: -1\n",
      "Discarded solution information\n",
      "Gurobi Optimizer version 9.1.2 build v9.1.2rc0 (win64)\n",
      "Thread count: 6 physical cores, 12 logical processors, using up to 12 threads\n",
      "Optimize a model with 56 rows, 97 columns and 383 nonzeros\n",
      "Model fingerprint: 0xe5a2036a\n",
      "Coefficient statistics:\n",
      "  Matrix range     [1e-03, 6e+01]\n",
      "  Objective range  [2e+00, 3e+03]\n",
      "  Bounds range     [0e+00, 0e+00]\n",
      "  RHS range        [3e+00, 2e+03]\n",
      "Presolve removed 3 rows and 3 columns\n",
      "Presolve time: 0.01s\n",
      "Presolved: 53 rows, 94 columns, 372 nonzeros\n",
      "\n",
      "Iteration    Objective       Primal Inf.    Dual Inf.      Time\n",
      "       0   -2.0993882e+05   2.839545e+02   0.000000e+00      0s\n",
      "      61    2.2549496e+05   0.000000e+00   0.000000e+00      0s\n",
      "\n",
      "Solved in 61 iterations and 0.01 seconds\n",
      "Optimal objective  2.254949632e+05\n",
      "[22.854545454545455, 0.5454545454545435, 4.626937269625273, 0.0, 0.0, 35.10714285714286, 4.793014705882354, 2.94280128843301, 0.0, 0.0, 0.0, 54.289864638522374, 0.5475077465930855, 0.0, 107.45249225340692, 0.0, 0.0, 0.0, 0.0, 10.773558372679435, 2.226441627320564, 0.0, 0.0, 0.0, 218.64984506813826, 0.0, 46.350154931861766, 0.0, 0.0, 109.33916621972213, 3.8037244245524295, 3.920125575447571, 0.0, 0.0, 13.658119670833674, 120.34188032916633, 0.0, 31.0, 0.0, 60.0, 0.0, 0.0, 111.72727272727252, 0.0, 51.9090909090909, 34.0, 0.0, 0.0, 0.0, 41.5, 0.0, 15.478816603917107, 0.0, 15.0, 0.0, 0.0, 3.1, 0.0, 0.6909090909091028, 0.0, 0.0, 175.44471672251026, 0.0, 9.80614106536041, 0.0, 0.0, 33.46836965590055, 9.531630344099447, 10.293075025153987, 8.906924974846012, 0.0, 0.0, 6.1, 0.0, 9.79285714285714, 313.19735281473135, 55.43167804351311, 264.5552832774897, 0.0, 13.2, 0.0, 1.3144797733007252, 0.5032608695652174, 0.0, 0.0, 0.0, 0.0, 0.0, 0.0, 0.0, 0.0, 13.5, 8.737073136119418, 0.0, 31.2, 0.0, 0.0]\n"
     ]
    }
   ],
   "metadata": {}
  }
 ],
 "metadata": {
  "orig_nbformat": 4,
  "language_info": {
   "name": "python",
   "version": "3.9.7",
   "mimetype": "text/x-python",
   "codemirror_mode": {
    "name": "ipython",
    "version": 3
   },
   "pygments_lexer": "ipython3",
   "nbconvert_exporter": "python",
   "file_extension": ".py"
  },
  "kernelspec": {
   "name": "python3",
   "display_name": "Python 3.9.7 64-bit ('venv')"
  },
  "interpreter": {
   "hash": "fa610890267813a770ce3bfb3fb405b627effdec544bbb41df2301ddd74a8f19"
  }
 },
 "nbformat": 4,
 "nbformat_minor": 2
}